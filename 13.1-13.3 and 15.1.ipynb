{
 "cells": [
  {
   "cell_type": "markdown",
   "id": "552dced0",
   "metadata": {},
   "source": [
    "13.1-13.3"
   ]
  },
  {
   "cell_type": "code",
   "execution_count": 1,
   "id": "ad4d82ad",
   "metadata": {},
   "outputs": [],
   "source": [
    "f = open(\"today.txt\", 'w')\n",
    "from datetime import datetime\n",
    "today = datetime.now()\n",
    "f.write(str(today.date()))\n",
    "f.close()"
   ]
  },
  {
   "cell_type": "code",
   "execution_count": 2,
   "id": "cda3fdda",
   "metadata": {},
   "outputs": [
    {
     "name": "stdout",
     "output_type": "stream",
     "text": [
      "['2023-02-23']\n"
     ]
    }
   ],
   "source": [
    "g = open(\"today.txt\", 'r')\n",
    "today_string = g.readlines()\n",
    "print(today_string)\n",
    "g.close()"
   ]
  },
  {
   "cell_type": "code",
   "execution_count": 3,
   "id": "b1365660",
   "metadata": {},
   "outputs": [
    {
     "name": "stdout",
     "output_type": "stream",
     "text": [
      "2023-02-23 00:00:00\n"
     ]
    }
   ],
   "source": [
    "true_datetime = datetime.strptime(today_string[0], \"%Y-%m-%d\")\n",
    "print(true_datetime)"
   ]
  },
  {
   "cell_type": "markdown",
   "id": "1f892965",
   "metadata": {},
   "source": [
    "15.1"
   ]
  },
  {
   "cell_type": "code",
   "execution_count": 49,
   "id": "bf883f9b",
   "metadata": {},
   "outputs": [],
   "source": [
    "import random\n",
    "import multiprocessing\n",
    "from datetime import datetime\n",
    "import time\n",
    "\n",
    "def printrandnum():\n",
    "    print(\"I started now \" + str(datetime.now()))\n",
    "    timedelay = random.random()\n",
    "    time.sleep(timedelay)\n",
    "    print(\"I ended now \" + str(datetime.now()))\n",
    "    return\n",
    "iterator = 0\n",
    "if __name__ == '__main__':\n",
    "    while iterator != 3:\n",
    "        iterator += 1\n",
    "        p = multiprocessing.Process(target=printrandnum)\n",
    "        p.start()"
   ]
  },
  {
   "cell_type": "markdown",
   "id": "93280c9a",
   "metadata": {},
   "source": [
    "This exact code works in visual studio code but not in jupityr for some reason relating to the subprocesses not being able to import __main__"
   ]
  },
  {
   "cell_type": "code",
   "execution_count": null,
   "id": "08ffdbdf",
   "metadata": {},
   "outputs": [],
   "source": []
  }
 ],
 "metadata": {
  "kernelspec": {
   "display_name": "Python 3 (ipykernel)",
   "language": "python",
   "name": "python3"
  },
  "language_info": {
   "codemirror_mode": {
    "name": "ipython",
    "version": 3
   },
   "file_extension": ".py",
   "mimetype": "text/x-python",
   "name": "python",
   "nbconvert_exporter": "python",
   "pygments_lexer": "ipython3",
   "version": "3.9.13"
  }
 },
 "nbformat": 4,
 "nbformat_minor": 5
}
